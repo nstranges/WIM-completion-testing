{
 "cells": [
  {
   "cell_type": "code",
   "execution_count": 2,
   "id": "6a3ee839-01c9-4e69-b402-c5f3aba17822",
   "metadata": {},
   "outputs": [],
   "source": [
    "# If using a protected dataset\n",
    "from huggingface_hub import login\n",
    "import json\n",
    "\n",
    "# Get the config.json info\n",
    "with open('hf_token.json', 'r') as config_file:\n",
    "    config = json.load(config_file)\n",
    "login(token=config.get('token'))"
   ]
  },
  {
   "cell_type": "code",
   "execution_count": 4,
   "id": "6e5f93dc-b411-4390-8304-b08305fbfd75",
   "metadata": {},
   "outputs": [
    {
     "name": "stderr",
     "output_type": "stream",
     "text": [
      "Loading checkpoint shards: 100%|██████████| 4/4 [00:04<00:00,  1.23s/it]\n"
     ]
    },
    {
     "data": {
      "text/plain": [
       "('nicksFiles/Merged-LLaMA-3-8B-WIM/tokenizer_config.json',\n",
       " 'nicksFiles/Merged-LLaMA-3-8B-WIM/special_tokens_map.json',\n",
       " 'nicksFiles/Merged-LLaMA-3-8B-WIM/chat_template.jinja',\n",
       " 'nicksFiles/Merged-LLaMA-3-8B-WIM/tokenizer.json')"
      ]
     },
     "execution_count": 4,
     "metadata": {},
     "output_type": "execute_result"
    }
   ],
   "source": [
    "from transformers import AutoTokenizer, AutoModelForCausalLM\n",
    "from peft import PeftModel\n",
    "\n",
    "base_model = AutoModelForCausalLM.from_pretrained(\"meta-llama/Meta-Llama-3-8B-Instruct\", device_map=\"auto\")\n",
    "model = PeftModel.from_pretrained(base_model, 'nicksFiles/Meta-Llama-3-8B-Instruct-OnlineDPO-WIM-Zeta1.0',local_files_only=True)\n",
    "\n",
    "# Merge adapter\n",
    "model = model.merge_and_unload()\n",
    "\n",
    "# Save as standalone\n",
    "save_path = \"nicksFiles/Merged-LLaMA-3-8B-WIM\"\n",
    "model.save_pretrained(save_path)\n",
    "AutoTokenizer.from_pretrained(\"meta-llama/Meta-Llama-3-8B-Instruct\").save_pretrained(save_path)"
   ]
  },
  {
   "cell_type": "code",
   "execution_count": null,
   "id": "69d00e15-d3f9-4cfa-a00f-f57eb7bc9a24",
   "metadata": {},
   "outputs": [],
   "source": []
  }
 ],
 "metadata": {
  "kernelspec": {
   "display_name": "Python 3 (ipykernel)",
   "language": "python",
   "name": "python3"
  },
  "language_info": {
   "codemirror_mode": {
    "name": "ipython",
    "version": 3
   },
   "file_extension": ".py",
   "mimetype": "text/x-python",
   "name": "python",
   "nbconvert_exporter": "python",
   "pygments_lexer": "ipython3",
   "version": "3.10.12"
  }
 },
 "nbformat": 4,
 "nbformat_minor": 5
}
